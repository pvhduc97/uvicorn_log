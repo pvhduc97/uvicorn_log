{
 "cells": [
  {
   "cell_type": "code",
   "execution_count": 1,
   "metadata": {
    "ExecuteTime": {
     "end_time": "2020-07-17T14:43:38.273926Z",
     "start_time": "2020-07-17T14:43:37.957038Z"
    }
   },
   "outputs": [],
   "source": [
    "import fastapi"
   ]
  },
  {
   "cell_type": "code",
   "execution_count": 8,
   "metadata": {
    "ExecuteTime": {
     "end_time": "2020-07-17T14:57:10.862479Z",
     "start_time": "2020-07-17T14:57:10.804747Z"
    }
   },
   "outputs": [],
   "source": [
    "import requests, base64"
   ]
  },
  {
   "cell_type": "code",
   "execution_count": 12,
   "metadata": {
    "ExecuteTime": {
     "end_time": "2020-07-17T14:59:10.930771Z",
     "start_time": "2020-07-17T14:59:08.900543Z"
    }
   },
   "outputs": [],
   "source": [
    "with open(\"avatar.jpg\", \"rb\") as img_file:\n",
    "    img_stream = base64.b64encode(img_file.read())\n",
    "img_str = img_stream.decode(\"utf-8\")\n",
    "to_predict_dict = {\"img\": img_str, \"id\":\"Phan Van Hoai Duc\"}\n",
    "r = requests.post(\"http://0.0.0.0:8000/verify\", json=to_predict_dict)\n",
    "# to_predict_dict = {\"id\":\"Phan Van Hoai Duc\"}\n",
    "# r = requests.post(\"http://0.0.0.0:8000/remove\", json=to_predict_dict)"
   ]
  },
  {
   "cell_type": "code",
   "execution_count": 13,
   "metadata": {
    "ExecuteTime": {
     "end_time": "2020-07-17T14:59:23.845045Z",
     "start_time": "2020-07-17T14:59:23.840580Z"
    }
   },
   "outputs": [
    {
     "data": {
      "text/plain": [
       "'{\"prob\":1.0000000230853083,\"valid_id\":true,\"valid_img\":true,\"face_detect\":true,\"except\":false}'"
      ]
     },
     "execution_count": 13,
     "metadata": {},
     "output_type": "execute_result"
    }
   ],
   "source": [
    "r.text"
   ]
  },
  {
   "cell_type": "code",
   "execution_count": 5,
   "metadata": {
    "ExecuteTime": {
     "end_time": "2020-07-17T14:44:44.015699Z",
     "start_time": "2020-07-17T14:44:44.012684Z"
    }
   },
   "outputs": [],
   "source": [
    "a = fastapi.Request"
   ]
  },
  {
   "cell_type": "code",
   "execution_count": 7,
   "metadata": {
    "ExecuteTime": {
     "end_time": "2020-07-17T14:46:32.683341Z",
     "start_time": "2020-07-17T14:46:32.678603Z"
    }
   },
   "outputs": [
    {
     "data": {
      "text/plain": [
       "<property at 0x7f29ca6c9728>"
      ]
     },
     "execution_count": 7,
     "metadata": {},
     "output_type": "execute_result"
    }
   ],
   "source": [
    "a.base_url"
   ]
  }
 ],
 "metadata": {
  "kernelspec": {
   "display_name": "Python [conda env:face]",
   "language": "python",
   "name": "conda-env-face-py"
  },
  "language_info": {
   "codemirror_mode": {
    "name": "ipython",
    "version": 3
   },
   "file_extension": ".py",
   "mimetype": "text/x-python",
   "name": "python",
   "nbconvert_exporter": "python",
   "pygments_lexer": "ipython3",
   "version": "3.6.10"
  },
  "toc": {
   "base_numbering": 1,
   "nav_menu": {},
   "number_sections": true,
   "sideBar": true,
   "skip_h1_title": false,
   "title_cell": "Table of Contents",
   "title_sidebar": "Contents",
   "toc_cell": false,
   "toc_position": {},
   "toc_section_display": true,
   "toc_window_display": false
  },
  "varInspector": {
   "cols": {
    "lenName": 16,
    "lenType": 16,
    "lenVar": 40
   },
   "kernels_config": {
    "python": {
     "delete_cmd_postfix": "",
     "delete_cmd_prefix": "del ",
     "library": "var_list.py",
     "varRefreshCmd": "print(var_dic_list())"
    },
    "r": {
     "delete_cmd_postfix": ") ",
     "delete_cmd_prefix": "rm(",
     "library": "var_list.r",
     "varRefreshCmd": "cat(var_dic_list()) "
    }
   },
   "types_to_exclude": [
    "module",
    "function",
    "builtin_function_or_method",
    "instance",
    "_Feature"
   ],
   "window_display": false
  }
 },
 "nbformat": 4,
 "nbformat_minor": 4
}
